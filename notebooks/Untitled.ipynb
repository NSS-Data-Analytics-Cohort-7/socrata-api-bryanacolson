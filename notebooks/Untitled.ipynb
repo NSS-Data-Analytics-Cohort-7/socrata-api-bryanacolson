{
 "cells": [
  {
   "cell_type": "code",
   "execution_count": null,
   "id": "bc877ac1",
   "metadata": {},
   "outputs": [],
   "source": [
    "import requests\n",
    "import matplotlib.pyplot as plt\n",
    "import pandas as pd\n",
    "from pandasql import sqldf"
   ]
  },
  {
   "cell_type": "code",
   "execution_count": null,
   "id": "654ce4c5",
   "metadata": {},
   "outputs": [],
   "source": [
    "endpoint = 'https://data.nashville.gov/resource/fuaa-r5cm.json'\n",
    "\n",
    "response = requests.get(endpoint)"
   ]
  },
  {
   "cell_type": "code",
   "execution_count": null,
   "id": "59d95b73",
   "metadata": {},
   "outputs": [],
   "source": []
  },
  {
   "cell_type": "code",
   "execution_count": null,
   "id": "342caff0",
   "metadata": {},
   "outputs": [],
   "source": [
    "response"
   ]
  },
  {
   "cell_type": "code",
   "execution_count": null,
   "id": "7214fb5f",
   "metadata": {},
   "outputs": [],
   "source": [
    "response.text"
   ]
  },
  {
   "cell_type": "code",
   "execution_count": null,
   "id": "a10eccba",
   "metadata": {},
   "outputs": [],
   "source": [
    "res = response.json()\n",
    "res"
   ]
  },
  {
   "cell_type": "code",
   "execution_count": null,
   "id": "8a35bc1f",
   "metadata": {},
   "outputs": [],
   "source": [
    "URL = 'https://data.nashville.gov/resource/fuaa-r5cm.json'\n",
    "\n",
    "json_df = pd.read_json(URL)\n",
    "json_df"
   ]
  },
  {
   "cell_type": "code",
   "execution_count": null,
   "id": "33259cd9",
   "metadata": {},
   "outputs": [],
   "source": [
    "json = pd.DataFrame(json_df)\n",
    "json"
   ]
  },
  {
   "cell_type": "code",
   "execution_count": null,
   "id": "d2c308a2",
   "metadata": {},
   "outputs": [],
   "source": [
    "json2016 = json.loc[json['year'] == 2016]"
   ]
  },
  {
   "cell_type": "code",
   "execution_count": null,
   "id": "50279f28",
   "metadata": {},
   "outputs": [],
   "source": [
    "#1"
   ]
  },
  {
   "cell_type": "code",
   "execution_count": null,
   "id": "f040c80d",
   "metadata": {},
   "outputs": [],
   "source": [
    "json2016.loc[json2016['query_text'] == 'fire']"
   ]
  },
  {
   "cell_type": "code",
   "execution_count": null,
   "id": "da70e4f7",
   "metadata": {},
   "outputs": [],
   "source": [
    "#2"
   ]
  },
  {
   "cell_type": "code",
   "execution_count": null,
   "id": "26e9f2b2",
   "metadata": {},
   "outputs": [],
   "source": [
    "json100 = json.loc[json['query_count']> 100]\n",
    "json100"
   ]
  },
  {
   "cell_type": "code",
   "execution_count": null,
   "id": "853355b5",
   "metadata": {},
   "outputs": [],
   "source": [
    "#3"
   ]
  },
  {
   "cell_type": "code",
   "execution_count": null,
   "id": "516f2ff4",
   "metadata": {},
   "outputs": [],
   "source": [
    "jsoncodes= json.loc[(json['query_text']== 'codes') & (json['query_count']>100)]\n",
    "jsoncodes"
   ]
  },
  {
   "cell_type": "code",
   "execution_count": null,
   "id": "dd82d0e2",
   "metadata": {},
   "outputs": [],
   "source": [
    "#4"
   ]
  },
  {
   "cell_type": "code",
   "execution_count": null,
   "id": "f17cdcf4",
   "metadata": {},
   "outputs": [],
   "source": [
    "json.head(500)"
   ]
  },
  {
   "cell_type": "code",
   "execution_count": null,
   "id": "3e1549b7",
   "metadata": {},
   "outputs": [],
   "source": []
  }
 ],
 "metadata": {
  "kernelspec": {
   "display_name": "Python 3 (ipykernel)",
   "language": "python",
   "name": "python3"
  },
  "language_info": {
   "codemirror_mode": {
    "name": "ipython",
    "version": 3
   },
   "file_extension": ".py",
   "mimetype": "text/x-python",
   "name": "python",
   "nbconvert_exporter": "python",
   "pygments_lexer": "ipython3",
   "version": "3.9.12"
  }
 },
 "nbformat": 4,
 "nbformat_minor": 5
}
